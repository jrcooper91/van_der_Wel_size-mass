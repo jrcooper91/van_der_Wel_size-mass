{
 "cells": [
  {
   "cell_type": "markdown",
   "metadata": {},
   "source": [
    "# IRC0218 (z = 1.62) Cluster & Field D4000 Comparison Study \n",
    "## D4000 vs. Sersic Index, Effective Radius, Mass, Stellar Surface Mass Density \n",
    "# by Jenn Cooper \n",
    "# Last modified 5 July 2018"
   ]
  },
  {
   "cell_type": "code",
   "execution_count": 70,
   "metadata": {},
   "outputs": [],
   "source": [
    "run /Users/jennifercooper/bootstrap_err.py"
   ]
  },
  {
   "cell_type": "code",
   "execution_count": 71,
   "metadata": {},
   "outputs": [
    {
     "ename": "NameError",
     "evalue": "name 'x' is not defined",
     "output_type": "error",
     "traceback": [
      "\u001b[0;31m---------------------------------------------------------------------------\u001b[0m",
      "\u001b[0;31mNameError\u001b[0m                                 Traceback (most recent call last)",
      "\u001b[0;32m<ipython-input-71-66cf979a4896>\u001b[0m in \u001b[0;36m<module>\u001b[0;34m()\u001b[0m\n\u001b[0;32m----> 1\u001b[0;31m \u001b[0mfieldn\u001b[0m\u001b[0;34m(\u001b[0m\u001b[0mx\u001b[0m\u001b[0;34m,\u001b[0m\u001b[0my\u001b[0m\u001b[0;34m,\u001b[0m\u001b[0myer\u001b[0m\u001b[0;34m,\u001b[0m\u001b[0mlcb1\u001b[0m\u001b[0;34m,\u001b[0m\u001b[0mlcb2\u001b[0m\u001b[0;34m,\u001b[0m\u001b[0mlcb3\u001b[0m\u001b[0;34m,\u001b[0m\u001b[0mucb1\u001b[0m\u001b[0;34m,\u001b[0m\u001b[0mucb2\u001b[0m\u001b[0;34m,\u001b[0m\u001b[0mucb3\u001b[0m\u001b[0;34m)\u001b[0m\u001b[0;34m\u001b[0m\u001b[0m\n\u001b[0m",
      "\u001b[0;31mNameError\u001b[0m: name 'x' is not defined"
     ]
    }
   ],
   "source": [
    "fieldn(x,y,yer,lcb1,lcb2,lcb3,ucb1,ucb2,ucb3)"
   ]
  },
  {
   "cell_type": "code",
   "execution_count": 19,
   "metadata": {},
   "outputs": [
    {
     "ename": "NameError",
     "evalue": "name 'x' is not defined",
     "output_type": "error",
     "traceback": [
      "\u001b[0;31m---------------------------------------------------------------------------\u001b[0m",
      "\u001b[0;31mNameError\u001b[0m                                 Traceback (most recent call last)",
      "\u001b[0;32m<ipython-input-19-51b1c5290ed1>\u001b[0m in \u001b[0;36m<module>\u001b[0;34m()\u001b[0m\n\u001b[0;32m----> 1\u001b[0;31m \u001b[0mircn\u001b[0m\u001b[0;34m(\u001b[0m\u001b[0mx\u001b[0m\u001b[0;34m,\u001b[0m\u001b[0my\u001b[0m\u001b[0;34m,\u001b[0m\u001b[0myer\u001b[0m\u001b[0;34m,\u001b[0m\u001b[0mlcb1\u001b[0m\u001b[0;34m,\u001b[0m\u001b[0mlcb2\u001b[0m\u001b[0;34m,\u001b[0m\u001b[0mlcb3\u001b[0m\u001b[0;34m,\u001b[0m\u001b[0mucb1\u001b[0m\u001b[0;34m,\u001b[0m\u001b[0mucb2\u001b[0m\u001b[0;34m,\u001b[0m\u001b[0mucb3\u001b[0m\u001b[0;34m)\u001b[0m\u001b[0;34m\u001b[0m\u001b[0m\n\u001b[0m",
      "\u001b[0;31mNameError\u001b[0m: name 'x' is not defined"
     ]
    }
   ],
   "source": [
    "ircn(x,y,yer,lcb1,lcb2,lcb3,ucb1,ucb2,ucb3)"
   ]
  },
  {
   "cell_type": "code",
   "execution_count": 20,
   "metadata": {},
   "outputs": [
    {
     "ename": "NameError",
     "evalue": "name 'x' is not defined",
     "output_type": "error",
     "traceback": [
      "\u001b[0;31m---------------------------------------------------------------------------\u001b[0m",
      "\u001b[0;31mNameError\u001b[0m                                 Traceback (most recent call last)",
      "\u001b[0;32m<ipython-input-20-7f4f4294ce28>\u001b[0m in \u001b[0;36m<module>\u001b[0;34m()\u001b[0m\n\u001b[0;32m----> 1\u001b[0;31m \u001b[0mfieldr\u001b[0m\u001b[0;34m(\u001b[0m\u001b[0mx\u001b[0m\u001b[0;34m,\u001b[0m\u001b[0my\u001b[0m\u001b[0;34m,\u001b[0m\u001b[0myer\u001b[0m\u001b[0;34m,\u001b[0m\u001b[0mlcb1\u001b[0m\u001b[0;34m,\u001b[0m\u001b[0mlcb2\u001b[0m\u001b[0;34m,\u001b[0m\u001b[0mlcb3\u001b[0m\u001b[0;34m,\u001b[0m\u001b[0mucb1\u001b[0m\u001b[0;34m,\u001b[0m\u001b[0mucb2\u001b[0m\u001b[0;34m,\u001b[0m\u001b[0mucb3\u001b[0m\u001b[0;34m)\u001b[0m\u001b[0;34m\u001b[0m\u001b[0m\n\u001b[0m",
      "\u001b[0;31mNameError\u001b[0m: name 'x' is not defined"
     ]
    }
   ],
   "source": [
    "fieldr(x,y,yer,lcb1,lcb2,lcb3,ucb1,ucb2,ucb3)"
   ]
  },
  {
   "cell_type": "code",
   "execution_count": 21,
   "metadata": {},
   "outputs": [
    {
     "ename": "NameError",
     "evalue": "name 'x' is not defined",
     "output_type": "error",
     "traceback": [
      "\u001b[0;31m---------------------------------------------------------------------------\u001b[0m",
      "\u001b[0;31mNameError\u001b[0m                                 Traceback (most recent call last)",
      "\u001b[0;32m<ipython-input-21-0c91c8916cb3>\u001b[0m in \u001b[0;36m<module>\u001b[0;34m()\u001b[0m\n\u001b[0;32m----> 1\u001b[0;31m \u001b[0mircr\u001b[0m\u001b[0;34m(\u001b[0m\u001b[0mx\u001b[0m\u001b[0;34m,\u001b[0m\u001b[0my\u001b[0m\u001b[0;34m,\u001b[0m\u001b[0myer\u001b[0m\u001b[0;34m,\u001b[0m\u001b[0mlcb1\u001b[0m\u001b[0;34m,\u001b[0m\u001b[0mlcb2\u001b[0m\u001b[0;34m,\u001b[0m\u001b[0mlcb3\u001b[0m\u001b[0;34m,\u001b[0m\u001b[0mucb1\u001b[0m\u001b[0;34m,\u001b[0m\u001b[0mucb2\u001b[0m\u001b[0;34m,\u001b[0m\u001b[0mucb3\u001b[0m\u001b[0;34m)\u001b[0m\u001b[0;34m\u001b[0m\u001b[0m\n\u001b[0m",
      "\u001b[0;31mNameError\u001b[0m: name 'x' is not defined"
     ]
    }
   ],
   "source": [
    "ircr(x,y,yer,lcb1,lcb2,lcb3,ucb1,ucb2,ucb3)"
   ]
  },
  {
   "cell_type": "code",
   "execution_count": 22,
   "metadata": {},
   "outputs": [
    {
     "ename": "NameError",
     "evalue": "name 'x' is not defined",
     "output_type": "error",
     "traceback": [
      "\u001b[0;31m---------------------------------------------------------------------------\u001b[0m",
      "\u001b[0;31mNameError\u001b[0m                                 Traceback (most recent call last)",
      "\u001b[0;32m<ipython-input-22-f81cde67a150>\u001b[0m in \u001b[0;36m<module>\u001b[0;34m()\u001b[0m\n\u001b[0;32m----> 1\u001b[0;31m \u001b[0mircssmd\u001b[0m\u001b[0;34m(\u001b[0m\u001b[0mx\u001b[0m\u001b[0;34m,\u001b[0m\u001b[0my\u001b[0m\u001b[0;34m,\u001b[0m\u001b[0myer\u001b[0m\u001b[0;34m,\u001b[0m\u001b[0mlcb1\u001b[0m\u001b[0;34m,\u001b[0m\u001b[0mlcb2\u001b[0m\u001b[0;34m,\u001b[0m\u001b[0mlcb3\u001b[0m\u001b[0;34m,\u001b[0m\u001b[0mucb1\u001b[0m\u001b[0;34m,\u001b[0m\u001b[0mucb2\u001b[0m\u001b[0;34m,\u001b[0m\u001b[0mucb3\u001b[0m\u001b[0;34m)\u001b[0m\u001b[0;34m\u001b[0m\u001b[0m\n\u001b[0m",
      "\u001b[0;31mNameError\u001b[0m: name 'x' is not defined"
     ]
    }
   ],
   "source": [
    "ircssmd(x,y,yer,lcb1,lcb2,lcb3,ucb1,ucb2,ucb3)"
   ]
  },
  {
   "cell_type": "code",
   "execution_count": 24,
   "metadata": {},
   "outputs": [
    {
     "ename": "NameError",
     "evalue": "name 'x' is not defined",
     "output_type": "error",
     "traceback": [
      "\u001b[0;31m---------------------------------------------------------------------------\u001b[0m",
      "\u001b[0;31mNameError\u001b[0m                                 Traceback (most recent call last)",
      "\u001b[0;32m<ipython-input-24-9fc1cc6d6cb5>\u001b[0m in \u001b[0;36m<module>\u001b[0;34m()\u001b[0m\n\u001b[0;32m----> 1\u001b[0;31m \u001b[0mircssmd_all\u001b[0m\u001b[0;34m(\u001b[0m\u001b[0mx\u001b[0m\u001b[0;34m,\u001b[0m\u001b[0my\u001b[0m\u001b[0;34m,\u001b[0m\u001b[0myer\u001b[0m\u001b[0;34m,\u001b[0m\u001b[0mlcb1\u001b[0m\u001b[0;34m,\u001b[0m\u001b[0mlcb2\u001b[0m\u001b[0;34m,\u001b[0m\u001b[0mlcb3\u001b[0m\u001b[0;34m,\u001b[0m\u001b[0mucb1\u001b[0m\u001b[0;34m,\u001b[0m\u001b[0mucb2\u001b[0m\u001b[0;34m,\u001b[0m\u001b[0mucb3\u001b[0m\u001b[0;34m,\u001b[0m\u001b[0mxcb1\u001b[0m\u001b[0;34m)\u001b[0m\u001b[0;34m\u001b[0m\u001b[0m\n\u001b[0m",
      "\u001b[0;31mNameError\u001b[0m: name 'x' is not defined"
     ]
    }
   ],
   "source": [
    "ircssmd_all(x,y,yer,lcb1,lcb2,lcb3,ucb1,ucb2,ucb3,xcb1)"
   ]
  },
  {
   "cell_type": "code",
   "execution_count": 29,
   "metadata": {},
   "outputs": [
    {
     "ename": "NameError",
     "evalue": "name 'x' is not defined",
     "output_type": "error",
     "traceback": [
      "\u001b[0;31m---------------------------------------------------------------------------\u001b[0m",
      "\u001b[0;31mNameError\u001b[0m                                 Traceback (most recent call last)",
      "\u001b[0;32m<ipython-input-29-3a117c4825cb>\u001b[0m in \u001b[0;36m<module>\u001b[0;34m()\u001b[0m\n\u001b[0;32m----> 1\u001b[0;31m \u001b[0mtest\u001b[0m\u001b[0;34m(\u001b[0m\u001b[0mx\u001b[0m\u001b[0;34m)\u001b[0m\u001b[0;34m\u001b[0m\u001b[0m\n\u001b[0m",
      "\u001b[0;31mNameError\u001b[0m: name 'x' is not defined"
     ]
    }
   ],
   "source": [
    "test(x)"
   ]
  },
  {
   "cell_type": "code",
   "execution_count": 73,
   "metadata": {},
   "outputs": [],
   "source": [
    "run ~/Documents/Gal_Ev/D4000_size/test.py"
   ]
  },
  {
   "cell_type": "code",
   "execution_count": 74,
   "metadata": {},
   "outputs": [
    {
     "name": "stdout",
     "output_type": "stream",
     "text": [
      "Happy Birthday to you!\n",
      "Happy Birthday to you!\n",
      "Happy Birthday, dear Emily.\n",
      "Happy Birthday to you!\n"
     ]
    }
   ],
   "source": [
    "happyBirthdayEmily()"
   ]
  },
  {
   "cell_type": "code",
   "execution_count": 75,
   "metadata": {},
   "outputs": [
    {
     "ename": "NameError",
     "evalue": "name 'x' is not defined",
     "output_type": "error",
     "traceback": [
      "\u001b[0;31m---------------------------------------------------------------------------\u001b[0m",
      "\u001b[0;31mNameError\u001b[0m                                 Traceback (most recent call last)",
      "\u001b[0;32m<ipython-input-75-66cf979a4896>\u001b[0m in \u001b[0;36m<module>\u001b[0;34m()\u001b[0m\n\u001b[0;32m----> 1\u001b[0;31m \u001b[0mfieldn\u001b[0m\u001b[0;34m(\u001b[0m\u001b[0mx\u001b[0m\u001b[0;34m,\u001b[0m\u001b[0my\u001b[0m\u001b[0;34m,\u001b[0m\u001b[0myer\u001b[0m\u001b[0;34m,\u001b[0m\u001b[0mlcb1\u001b[0m\u001b[0;34m,\u001b[0m\u001b[0mlcb2\u001b[0m\u001b[0;34m,\u001b[0m\u001b[0mlcb3\u001b[0m\u001b[0;34m,\u001b[0m\u001b[0mucb1\u001b[0m\u001b[0;34m,\u001b[0m\u001b[0mucb2\u001b[0m\u001b[0;34m,\u001b[0m\u001b[0mucb3\u001b[0m\u001b[0;34m)\u001b[0m\u001b[0;34m\u001b[0m\u001b[0m\n\u001b[0m",
      "\u001b[0;31mNameError\u001b[0m: name 'x' is not defined"
     ]
    }
   ],
   "source": [
    "fieldn(x,y,yer,lcb1,lcb2,lcb3,ucb1,ucb2,ucb3)"
   ]
  },
  {
   "cell_type": "code",
   "execution_count": 76,
   "metadata": {
    "collapsed": true
   },
   "outputs": [],
   "source": [
    "import pyfits \n",
    "import matplotlib.pyplot as plt\n",
    "import matplotlib.patches as mpatches\n",
    "import numpy as np\n",
    "import astropy \n",
    "from astropy import cosmology \n",
    "import math as mt\n",
    "from scipy.integrate import quad\n",
    "from scipy.stats import chi2_contingency\n",
    "from pylab import *\n",
    "from scipy.optimize import curve_fit\n",
    "import scipy as sp\n",
    "import scipy.special\n",
    "import scipy.stats as stats\n",
    "import seaborn as sns \n",
    "import pandas as pd\n",
    "from astropy.modeling.models import Sersic1D\n",
    "from numpy import * \n",
    "import bces.bces\n",
    "import nmmn.stats\n",
    "\n",
    "#https://github.com/rsnemmen/BCES/blob/master/stats%20howto%20bces.ipynb\n",
    "\n",
    "#field data (_f)\n",
    "f = open('/Users/jennifercooper/Documents/Gal_Ev/D4000_size/field_size_n.txt', 'r')\n",
    "lines = f.readlines()[1:]\n",
    "f.close()\n",
    "\n",
    "#create arrays \n",
    "f_re_er = [] \n",
    "f_re    = []\n",
    "f_n     = []\n",
    "f_n_er  = []\n",
    "f_z     = []\n",
    "f_dk    = []\n",
    "f_lmass = []\n",
    "f_flag  = []\n",
    "f_ans_re_1 =[]\n",
    "f_dk_p  = []\n",
    "f_dk_n = []\n",
    "f_re_kpca = []\n",
    "f_ssmd = []\n",
    "\n",
    "#pull array column \n",
    "for line in lines: \n",
    "    a = line.split()\n",
    "    f_z.append(float(a[16]))\n",
    "    f_re.append(float(a[6]))\n",
    "    f_re_er.append(float(a[7]))\n",
    "    f_n.append(float(a[8]))\n",
    "    f_n_er.append(float(a[9]))\n",
    "    f_dk.append(float(a[32]))\n",
    "    f_lmass.append(float(a[21]))\n",
    "    f_flag.append(float(a[36]))\n",
    "    f_dk_p.append(float(a[33]))\n",
    "    f_dk_n.append(float(a[34]))\n",
    "    f_re_kpca.append(float(a[37]))\n",
    "    f_ssmd.append(float(a[38]))\n",
    "\n",
    "#assign arrays \n",
    "f_re    = np.array(f_re)\n",
    "f_re_er = np.array(f_re_er)\n",
    "f_n     = np.array(f_n)\n",
    "f_n_er  = np.array(f_n_er)\n",
    "f_z     = np.array(f_z)\n",
    "f_dk    = np.array(f_dk)\n",
    "f_lmass = np.array(f_lmass)\n",
    "f_flag  = np.array(f_flag) #greater than 0.9 (1) is SF, less than is Q\n",
    "f_dk_p  = np.array(f_dk_p)\n",
    "f_dk_n  = np.array(f_dk_n)\n",
    "f_re_kpca = np.array(f_re_kpca)\n",
    "f_dk_err = (f_dk_p + f_dk_n)/2. #average of errors \n",
    "f_ssmd  = np.array(f_ssmd)\n",
    "\n",
    "\n",
    "f_re_kpc = f_re*8.615 #arc to kpc\n",
    "f_b = 1.9992*f_n - 0.3271 #value of b\n",
    "\n"
   ]
  },
  {
   "cell_type": "code",
   "execution_count": 81,
   "metadata": {
    "collapsed": true
   },
   "outputs": [],
   "source": [
    "def fieldn(x,y,yer,lcb1,lcb2,lcb3,ucb1,ucb2,ucb3):\n",
    "    x  = f_n[np.where(f_flag>0.9)]\n",
    "    y = f_dk[np.where(f_flag>0.9)]\n",
    "    yer = f_dk_err[np.where(f_flag>0.9)]\n",
    "    sort = np.argsort(x)\n",
    "    x = x[sort]\n",
    "    x = np.array(x)\n",
    "    y = y[sort] \n",
    "    y = np.array(y)\n",
    "    yer = yer[sort]\n",
    "    yer = np.array(yer)\n",
    "    xer=zeros(len(x))\n",
    "    cov=zeros(len(x))   # no correlation between error measurements\n",
    "    ax=plt.figure(figsize=(18, 16), dpi= 80, facecolor='w', edgecolor='k')\n",
    "    ax = subplot(2,2,1)\n",
    "    ax = xlim(0.4,4)\n",
    "    ax = ylim(-1,5)\n",
    "    i = 0\n",
    "    nboot=10000   # number of bootstrapping trials\n",
    "    def func(x): return x[1]*x[0]+x[2]\n",
    "    a,b,aerr,berr,covab=bces.bces.bcesp(x,xer,y,yer,cov,nboot)\n",
    "    ybces=a[3]*x+b[3]  # the integer corresponds to the desired BCES method for plotting (3-ort, 0-y|x, 1-x|y, *don't use bissector*)\n",
    "    # array with best-fit parameters\n",
    "    fitm=np.array([ a[i],b[i] ])\n",
    "    # covariance matrix of parameter uncertainties\n",
    "    covm=np.array([ (aerr[i]**2,covab[i]), (covab[i],berr[i]**2) ])\n",
    "    # Gets lower and upper bounds on the confidence band \n",
    "    lcb1,ucb1,x=nmmn.stats.confband(x, y, a[i], b[i], 0.68, x)\n",
    "    lcb2,ucb2,x2=nmmn.stats.confband(x, y, a[i], b[i], 0.95, x)\n",
    "    lcb3,ucb3,x3=nmmn.stats.confband(x, y, a[i], b[i], 0.997, x)\n",
    "    errorbar(x,y,yerr=yer,fmt='o')\n",
    "    ax = plot(x,ybces,'-k')\n",
    "    ax = fill_between(x, lcb1, ucb1, alpha=0.6, facecolor='purple')\n",
    "    ax = fill_between(x, lcb2, ucb2, alpha=0.3, facecolor='blue')\n",
    "    ax = fill_between(x, lcb3, ucb3, alpha=0.4, facecolor='grey')\n",
    "    #ax = bar(x,y,yerr=[f_dk_p[np.where(f_flag>0.9)], f_dk_n[np.where(f_flag>0.9)]], facecolor='none')\n",
    "    ax = legend(loc='best')\n",
    "    ax = xlabel('Field Sersic Index SF')\n",
    "    ax = ylabel('$D4000$')\n",
    "    \n",
    "    ax = subplot(2,2,2)\n",
    "    ax = xlim(0.4,5)\n",
    "    ax = ylim(-1,5)\n",
    "    x, y = pd.Series(f_n[np.where(f_flag<0.9)], name=\"Field Sersic Index Q\"), pd.Series(f_dk[np.where(f_flag<0.9)], name=\"D4000\")\n",
    "    yer = pd.Series(f_dk_err[np.where(f_flag<0.9)])\n",
    "    sort = np.argsort(x)\n",
    "    x = x[sort]\n",
    "    x = np.array(x)\n",
    "    y = y[sort] \n",
    "    y = np.array(y)\n",
    "    yer = yer[sort]\n",
    "    yer = np.array(yer)\n",
    "    xer=zeros(len(x))\n",
    "    cov=zeros(len(x))   # no correlation between error measurements\n",
    "    i = 0\n",
    "    nboot=10000   # number of bootstrapping trials\n",
    "    def func(x): return x[1]*x[0]+x[2]\n",
    "    a,b,aerr,berr,covab=bces.bces.bcesp(x,xer,y,yer,cov,nboot)\n",
    "    ybces=a[3]*x+b[3]  # the integer corresponds to the desired BCES method for plotting (3-ort, 0-y|x, 1-x|y, *don't use bissector*)\n",
    "    # array with best-fit parameters\n",
    "    fitm=np.array([ a[i],b[i] ])\n",
    "    # covariance matrix of parameter uncertainties\n",
    "    covm=np.array([ (aerr[i]**2,covab[i]), (covab[i],berr[i]**2) ])\n",
    "    # Gets lower and upper bounds on the confidence band \n",
    "    lcb1,ucb1,x=nmmn.stats.confband(x, y, a[i], b[i], 0.68, x)\n",
    "    lcb2,ucb2,x2=nmmn.stats.confband(x, y, a[i], b[i], 0.95, x)\n",
    "    lcb3,ucb3,x3=nmmn.stats.confband(x, y, a[i], b[i], 0.997, x)\n",
    "    errorbar(x,y,yerr=yer,fmt='o')\n",
    "    ax = plot(x,ybces,'-k')\n",
    "    ax = fill_between(x, lcb1, ucb1, alpha=0.6, facecolor='purple')\n",
    "    ax = fill_between(x, lcb2, ucb2, alpha=0.3, facecolor='blue')\n",
    "    ax = fill_between(x, lcb3, ucb3, alpha=0.4, facecolor='grey')\n",
    "    ax = xlabel('Field Sersic Index Q')\n",
    "    purple_patch = mpatches.Patch(color='purple', label='68%')\n",
    "    blue_patch = mpatches.Patch(color='blue', label='95%', alpha = 0.3)\n",
    "    grey_patch = mpatches.Patch(color='grey', label='99.7%', alpha=0.4)\n",
    "    plt.legend(handles=[purple_patch,blue_patch,grey_patch])\n",
    "    \n",
    "    \n",
    "    \n",
    "    ax = subplot(2,2,3)\n",
    "    ax = xlim(0.4,4)\n",
    "    ax = ylim(-1,5)\n",
    "    x, y = pd.Series(f_n[np.where(np.logical_and(f_flag>0.9,f_lmass>10.20))], name=\"Field Sersic Index SF Mass Complete\"), pd.Series(f_dk[np.where(np.logical_and(f_flag>0.9,f_lmass>10.20))], name=\"D4000\")\n",
    "    yer = pd.Series(f_dk_err[np.where(np.logical_and(f_flag>0.9,f_lmass>10.20))])\n",
    "    sort = np.argsort(x)\n",
    "    x = x[sort]\n",
    "    x = np.array(x)\n",
    "    y = y[sort] \n",
    "    y = np.array(y)\n",
    "    yer = yer[sort]\n",
    "    yer = np.array(yer)\n",
    "    xer=zeros(len(x))\n",
    "    cov=zeros(len(x))   # no correlation between error measurements\n",
    "    i = 0\n",
    "    nboot=10000   # number of bootstrapping trials\n",
    "    def func(x): return x[1]*x[0]+x[2]\n",
    "    a,b,aerr,berr,covab=bces.bces.bcesp(x,xer,y,yer,cov,nboot)\n",
    "    ybces=a[3]*x+b[3]  # the integer corresponds to the desired BCES method for plotting (3-ort, 0-y|x, 1-x|y, *don't use bissector*)\n",
    "    # array with best-fit parameters\n",
    "    fitm=np.array([ a[i],b[i] ])\n",
    "    # covariance matrix of parameter uncertainties\n",
    "    covm=np.array([ (aerr[i]**2,covab[i]), (covab[i],berr[i]**2) ])\n",
    "    # Gets lower and upper bounds on the confidence band \n",
    "    lcb1,ucb1,x=nmmn.stats.confband(x, y, a[i], b[i], 0.68, x)\n",
    "    lcb2,ucb2,x2=nmmn.stats.confband(x, y, a[i], b[i], 0.95, x)\n",
    "    lcb3,ucb3,x3=nmmn.stats.confband(x, y, a[i], b[i], 0.997, x)\n",
    "    errorbar(x,y,yerr=yer,fmt='o')\n",
    "    ax = plot(x,ybces,'-k')\n",
    "    ax = fill_between(x, lcb1, ucb1, alpha=0.6, facecolor='purple')\n",
    "    ax = fill_between(x, lcb2, ucb2, alpha=0.3, facecolor='blue')\n",
    "    ax = fill_between(x, lcb3, ucb3, alpha=0.4, facecolor='grey')\n",
    "    ax = xlabel('Field Sersic Index SF Mass Complete')\n",
    "    ax = ylabel('D4000')\n",
    "    ax = plt.show()"
   ]
  },
  {
   "cell_type": "code",
   "execution_count": 82,
   "metadata": {},
   "outputs": [
    {
     "ename": "NameError",
     "evalue": "name 'x' is not defined",
     "output_type": "error",
     "traceback": [
      "\u001b[0;31m---------------------------------------------------------------------------\u001b[0m",
      "\u001b[0;31mNameError\u001b[0m                                 Traceback (most recent call last)",
      "\u001b[0;32m<ipython-input-82-66cf979a4896>\u001b[0m in \u001b[0;36m<module>\u001b[0;34m()\u001b[0m\n\u001b[0;32m----> 1\u001b[0;31m \u001b[0mfieldn\u001b[0m\u001b[0;34m(\u001b[0m\u001b[0mx\u001b[0m\u001b[0;34m,\u001b[0m\u001b[0my\u001b[0m\u001b[0;34m,\u001b[0m\u001b[0myer\u001b[0m\u001b[0;34m,\u001b[0m\u001b[0mlcb1\u001b[0m\u001b[0;34m,\u001b[0m\u001b[0mlcb2\u001b[0m\u001b[0;34m,\u001b[0m\u001b[0mlcb3\u001b[0m\u001b[0;34m,\u001b[0m\u001b[0mucb1\u001b[0m\u001b[0;34m,\u001b[0m\u001b[0mucb2\u001b[0m\u001b[0;34m,\u001b[0m\u001b[0mucb3\u001b[0m\u001b[0;34m)\u001b[0m\u001b[0;34m\u001b[0m\u001b[0m\n\u001b[0m",
      "\u001b[0;31mNameError\u001b[0m: name 'x' is not defined"
     ]
    }
   ],
   "source": [
    "fieldn(x,y,yer,lcb1,lcb2,lcb3,ucb1,ucb2,ucb3)"
   ]
  },
  {
   "cell_type": "code",
   "execution_count": null,
   "metadata": {},
   "outputs": [],
   "source": []
  },
  {
   "cell_type": "code",
   "execution_count": null,
   "metadata": {
    "collapsed": true
   },
   "outputs": [],
   "source": []
  },
  {
   "cell_type": "code",
   "execution_count": null,
   "metadata": {
    "collapsed": true
   },
   "outputs": [],
   "source": []
  },
  {
   "cell_type": "code",
   "execution_count": null,
   "metadata": {
    "collapsed": true
   },
   "outputs": [],
   "source": []
  },
  {
   "cell_type": "code",
   "execution_count": null,
   "metadata": {
    "collapsed": true
   },
   "outputs": [],
   "source": []
  },
  {
   "cell_type": "code",
   "execution_count": null,
   "metadata": {
    "collapsed": true
   },
   "outputs": [],
   "source": []
  },
  {
   "cell_type": "code",
   "execution_count": null,
   "metadata": {
    "collapsed": true
   },
   "outputs": [],
   "source": []
  },
  {
   "cell_type": "code",
   "execution_count": null,
   "metadata": {
    "collapsed": true
   },
   "outputs": [],
   "source": []
  },
  {
   "cell_type": "code",
   "execution_count": null,
   "metadata": {
    "collapsed": true
   },
   "outputs": [],
   "source": []
  },
  {
   "cell_type": "code",
   "execution_count": null,
   "metadata": {
    "collapsed": true
   },
   "outputs": [],
   "source": []
  },
  {
   "cell_type": "code",
   "execution_count": null,
   "metadata": {
    "collapsed": true
   },
   "outputs": [],
   "source": []
  },
  {
   "cell_type": "code",
   "execution_count": 232,
   "metadata": {
    "collapsed": true
   },
   "outputs": [],
   "source": []
  },
  {
   "cell_type": "code",
   "execution_count": null,
   "metadata": {
    "collapsed": true
   },
   "outputs": [],
   "source": []
  },
  {
   "cell_type": "code",
   "execution_count": null,
   "metadata": {
    "collapsed": true
   },
   "outputs": [],
   "source": []
  },
  {
   "cell_type": "code",
   "execution_count": null,
   "metadata": {
    "collapsed": true
   },
   "outputs": [],
   "source": []
  },
  {
   "cell_type": "code",
   "execution_count": null,
   "metadata": {
    "collapsed": true
   },
   "outputs": [],
   "source": []
  }
 ],
 "metadata": {
  "kernelspec": {
   "display_name": "Python 2",
   "language": "python",
   "name": "python2"
  },
  "language_info": {
   "codemirror_mode": {
    "name": "ipython",
    "version": 2
   },
   "file_extension": ".py",
   "mimetype": "text/x-python",
   "name": "python",
   "nbconvert_exporter": "python",
   "pygments_lexer": "ipython2",
   "version": "2.7.13"
  }
 },
 "nbformat": 4,
 "nbformat_minor": 2
}
