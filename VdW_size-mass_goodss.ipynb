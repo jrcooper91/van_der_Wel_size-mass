{
 "cells": [
  {
   "cell_type": "code",
   "execution_count": 95,
   "metadata": {
    "collapsed": true
   },
   "outputs": [],
   "source": [
    "import pyfits \n",
    "import matplotlib.pyplot as plt\n",
    "import numpy as np\n",
    "import astropy \n",
    "from astropy import cosmology\n",
    "\n",
    "m = open('/Users/jennifercooper/Documents/Gal_Ev/van_der_Wel/cosmosmass_z_re.txt', 'r')\n",
    "lines = m.readlines()[1:]\n",
    "m.close()\n",
    "clmass = [] \n",
    "cre = []\n",
    "cz = []\n",
    "\n",
    "for line in lines: \n",
    "    a = line.split()\n",
    "    cz.append(float(a[1]))\n",
    "    clmass.append(float(a[6]))\n",
    "    cre.append(float(a[17]))\n",
    "    \n",
    "    \n",
    "clmass = np.array(clmass)\n",
    "cre = np.array(cre)\n",
    "cz = np.array(cz)\n",
    "cmass = 10**(clmass)"
   ]
  },
  {
   "cell_type": "code",
   "execution_count": 96,
   "metadata": {
    "scrolled": true
   },
   "outputs": [],
   "source": [
    "m = open('/Users/jennifercooper/Documents/Gal_Ev/van_der_Wel/goodssmass_z_re.txt', 'r')\n",
    "lines = m.readlines()[1:]\n",
    "m.close()\n",
    "glmass = [] \n",
    "gre = []\n",
    "gz = []\n",
    "\n",
    "for line in lines: \n",
    "    a = line.split()\n",
    "    gz.append(float(a[1]))\n",
    "    glmass.append(float(a[6]))\n",
    "    gre.append(float(a[17]))\n",
    "    \n",
    "    \n",
    "glmass = np.array(glmass)\n",
    "gre = np.array(gre)\n",
    "gz = np.array(gz)\n",
    "gmass = 10**(glmass)\n"
   ]
  },
  {
   "cell_type": "code",
   "execution_count": 97,
   "metadata": {},
   "outputs": [],
   "source": [
    "from astropy.cosmology import WMAP9 as cosmo\n",
    "gre_kpc = gre/cosmo.arcsec_per_kpc_proper(gz)\n",
    "cre_kpc = cre/cosmo.arcsec_per_kpc_proper(cz)\n"
   ]
  },
  {
   "cell_type": "code",
   "execution_count": 104,
   "metadata": {},
   "outputs": [
    {
     "data": {
      "image/png": "[encoded data removed]",
      "text/plain": [
       "<matplotlib.figure.Figure at 0x11f372e10>"
      ]
     },
     "metadata": {},
     "output_type": "display_data"
    }
   ],
   "source": [
    "#plt.scatter(mass[np.where(mass>10e9)],re_kpc[np.where(mass>10e9)])\n",
    "plt.loglog(cmass[np.where(cmass>10e8)],cre_kpc[np.where(cmass>10e8)], 'ro', ms=1)\n",
    "plt.loglog(gmass[np.where(gmass>10e8)],gre_kpc[np.where(gmass>10e8)], 'ro', ms=1)\n",
    "plt.ylim(0.3,15)\n",
    "plt.xlim(10**9,10**12)\n",
    "plt.ylabel('Reff in kpc')\n",
    "plt.xlabel('Mstar/Msun')\n",
    "plt.title('z 0.25')\n",
    "plt.axis('equal')\n",
    "plt.show()"
   ]
  },
  {
   "cell_type": "code",
   "execution_count": null,
   "metadata": {
    "collapsed": true
   },
   "outputs": [],
   "source": []
  }
 ],
 "metadata": {
  "kernelspec": {
   "display_name": "Python 2",
   "language": "python",
   "name": "python2"
  },
  "language_info": {
   "codemirror_mode": {
    "name": "ipython",
    "version": 2
   },
   "file_extension": ".py",
   "mimetype": "text/x-python",
   "name": "python",
   "nbconvert_exporter": "python",
   "pygments_lexer": "ipython2",
   "version": "2.7.13"
  }
 },
 "nbformat": 4,
 "nbformat_minor": 2
}
