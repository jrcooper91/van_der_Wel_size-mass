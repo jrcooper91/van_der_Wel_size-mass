{
 "cells": [
  {
   "cell_type": "code",
   "execution_count": 37,
   "metadata": {},
   "outputs": [],
   "source": [
    "import pyfits \n",
    "import matplotlib.pyplot as plt\n",
    "import numpy as np\n",
    "import astropy \n",
    "from astropy import cosmology\n",
    "\n",
    "m = open('/Users/jennifercooper/Documents/Gal_Ev/van_der_Wel/mass_z_re.txt', 'r')\n",
    "lines = m.readlines()[1:]\n",
    "m.close()\n"
   ]
  },
  {
   "cell_type": "code",
   "execution_count": 72,
   "metadata": {
    "scrolled": true
   },
   "outputs": [],
   "source": [
    "lmass = [] \n",
    "re = []\n",
    "z = []\n",
    "\n",
    "for line in lines: \n",
    "    a = line.split()\n",
    "    z.append(float(a[1]))\n",
    "    lmass.append(float(a[6]))\n",
    "    re.append(float(a[17]))\n",
    "    \n",
    "    \n",
    "lmass = np.array(lmass)\n",
    "re = np.array(re)\n",
    "z = np.array(z)\n",
    "mass = 10**(lmass)\n"
   ]
  },
  {
   "cell_type": "code",
   "execution_count": 71,
   "metadata": {},
   "outputs": [],
   "source": [
    "from astropy.cosmology import WMAP9 as cosmo\n",
    "re_kpc = re/cosmo.arcsec_per_kpc_proper(z)\n"
   ]
  },
  {
   "cell_type": "code",
   "execution_count": 74,
   "metadata": {},
   "outputs": [
    {
     "data": {
      "image/png": "[encoded data removed]",
      "text/plain": [
       "<matplotlib.figure.Figure at 0x1204d5750>"
      ]
     },
     "metadata": {},
     "output_type": "display_data"
    }
   ],
   "source": [
    "#plt.scatter(mass[np.where(mass>10e9)],re_kpc[np.where(mass>10e9)])\n",
    "plt.semilogy(mass[np.where(mass>10e8)],re_kpc[np.where(mass>10e8)], 'ro')\n",
    "plt.ylim(0.3,11)\n",
    "plt.ylabel('Reff in kpc')\n",
    "plt.xlabel('Mstar/Msun')\n",
    "plt.title('z 0.25')\n",
    "plt.show()"
   ]
  },
  {
   "cell_type": "code",
   "execution_count": null,
   "metadata": {
    "collapsed": true
   },
   "outputs": [],
   "source": []
  }
 ],
 "metadata": {
  "kernelspec": {
   "display_name": "Python 2",
   "language": "python",
   "name": "python2"
  },
  "language_info": {
   "codemirror_mode": {
    "name": "ipython",
    "version": 2
   },
   "file_extension": ".py",
   "mimetype": "text/x-python",
   "name": "python",
   "nbconvert_exporter": "python",
   "pygments_lexer": "ipython2",
   "version": "2.7.13"
  }
 },
 "nbformat": 4,
 "nbformat_minor": 2
}
